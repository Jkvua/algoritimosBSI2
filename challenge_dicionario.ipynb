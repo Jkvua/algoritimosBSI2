{
  "nbformat": 4,
  "nbformat_minor": 0,
  "metadata": {
    "colab": {
      "provenance": [],
      "authorship_tag": "ABX9TyMYLUxPD2U0X0GHrOMuEQ0q",
      "include_colab_link": true
    },
    "kernelspec": {
      "name": "python3",
      "display_name": "Python 3"
    },
    "language_info": {
      "name": "python"
    }
  },
  "cells": [
    {
      "cell_type": "markdown",
      "metadata": {
        "id": "view-in-github",
        "colab_type": "text"
      },
      "source": [
        "<a href=\"https://colab.research.google.com/github/Jkvua/desafio_2sem/blob/main/challenge_dicionario.ipynb\" target=\"_parent\"><img src=\"https://colab.research.google.com/assets/colab-badge.svg\" alt=\"Open In Colab\"/></a>"
      ]
    },
    {
      "cell_type": "markdown",
      "source": [
        "\n",
        "\n",
        "```\n",
        "1. Mesclar Dicionários\n",
        "Combine dois dicionários, substituindo valores comuns pela soma dos valores\n",
        "correspondentes.\n",
        "```\n",
        "\n"
      ],
      "metadata": {
        "id": "rRPXx5M4iX9F"
      }
    },
    {
      "cell_type": "code",
      "execution_count": null,
      "metadata": {
        "id": "DPx6asNtiNdL"
      },
      "outputs": [],
      "source": [
        "def dicionario(dicionario1, dicionario2):\n",
        "  copia = dicionario1.copy()\n",
        "  for chave, valor in dicionario2.items():\n",
        "    if chave in copia:\n",
        "      copia[chave] += valor\n",
        "    else:\n",
        "      copia[chave] =  valor\n",
        "\n",
        "  return copia\n",
        "\n",
        "dicionario1 = {'camila': 1, 'carol' : 7, 'jandira': 5}\n",
        "dicionario2 = {'carol': 2, 'jandira': 1, 'damiao': 5}\n",
        "\n",
        "copia = dicionario(dicionario1, dicionario2)\n",
        "print(copia)"
      ]
    },
    {
      "cell_type": "markdown",
      "source": [
        "\n",
        "\n",
        "```\n",
        "2. Maior Valor em Dicionário de Dicionários\n",
        "Encontre a chave e valor com o maior valor em um dicionário de dicionários.\n",
        "```\n",
        "\n"
      ],
      "metadata": {
        "id": "58klHVkzy8kQ"
      }
    },
    {
      "cell_type": "code",
      "source": [
        "def maior_valor(dicionarios):\n",
        "    max_valor = max(dicionarios, key=lambda x: x['valor'])\n",
        "    return max_valor['chave'], max_valor['valor']\n",
        "\n",
        "lista_de_dicionarios = [\n",
        "    {'chave': 'camila', 'valor': 19},\n",
        "    {'chave': 'jandira', 'valor': 56},\n",
        "    {'chave': 'carol', 'valor': 22},\n",
        "    {'chave': 'damiao', 'valor': 55}\n",
        "]\n",
        "\n",
        "print(maior_valor(lista_de_dicionarios))"
      ],
      "metadata": {
        "id": "be5Yjb9DsGcw"
      },
      "execution_count": null,
      "outputs": []
    },
    {
      "cell_type": "markdown",
      "source": [
        "\n",
        "\n",
        "```\n",
        "3. Palavras Únicas por Chave\n",
        "Dado um dicionário de listas, encontre as palavras que são únicas para cada\n",
        "chave.\n",
        "```\n",
        "\n"
      ],
      "metadata": {
        "id": "3feaeYAx5VQp"
      }
    },
    {
      "cell_type": "code",
      "source": [
        "def palavra_unica(di):\n",
        "  lista = []\n",
        "  for item in di.values():\n",
        "    for palavra in item:\n",
        "      lista.append(palavra)\n",
        "  return set(lista)\n",
        "\n",
        "di = {\n",
        "    \"carro_w\" : ['Gol', 'Fox', 'Golf'],\n",
        "    \"carro2\" : ['Fusca', 'Gol', 'Fox'],\n",
        "    \"carro3\" : ['kombi', 'Golf', 'Fusca']\n",
        "}\n",
        "\n",
        "resul = palavra_unica(di)\n",
        "print(resul)"
      ],
      "metadata": {
        "id": "TzwNYI8m5Y1F"
      },
      "execution_count": null,
      "outputs": []
    },
    {
      "cell_type": "markdown",
      "source": [
        "\n",
        "\n",
        "```\n",
        "4. Aninhamento de Chaves\n",
        "Crie um dicionário aninhado com níveis de chaves fornecidos em uma lista.\n",
        "```\n",
        "\n"
      ],
      "metadata": {
        "id": "YTPA5Qnv9DEB"
      }
    },
    {
      "cell_type": "code",
      "source": [
        "def criar_dicionario_aninhado(niveis_chaves, valores):\n",
        "    dicionario = valores\n",
        "    for nivel in reversed(niveis_chaves):\n",
        "        dicionario = {nivel: dicionario}\n",
        "\n",
        "    return dicionario"
      ],
      "metadata": {
        "id": "-tyXg6UJ-fug"
      },
      "execution_count": 59,
      "outputs": []
    },
    {
      "cell_type": "markdown",
      "source": [
        "\n",
        "\n",
        "```\n",
        "5. Dicionário Circular\n",
        "Crie um dicionário em que a última chave aponte para a primeira chave.\n",
        "```\n",
        "\n"
      ],
      "metadata": {
        "id": "EcbGaE_O-hq2"
      }
    },
    {
      "cell_type": "code",
      "source": [
        "def aponta_primeiro(chave):\n",
        "  dici = dict(zip(chave, chave[1:] + [chave[0]]))\n",
        "  return dici\n",
        "\n",
        "chave = ['camila', 'carol', 'sabrina', 'olivia']\n",
        "dici = aponta_primeiro(chave)\n",
        "\n",
        "print(dici)"
      ],
      "metadata": {
        "id": "TfN1U2Cw-mtZ"
      },
      "execution_count": null,
      "outputs": []
    },
    {
      "cell_type": "markdown",
      "source": [
        "\n",
        "\n",
        "```\n",
        "6. Compressão de Dicionário\n",
        "Comprima um dicionário removendo chaves com valores menores que um\n",
        "determinado limite.\n",
        "```\n",
        "\n"
      ],
      "metadata": {
        "id": "sJTx9zgVBy2q"
      }
    },
    {
      "cell_type": "code",
      "source": [
        "def dicionarios(dicionario, limite):\n",
        "    dicionario_comprimido = {chave: valor for chave, valor in dicionario.items() if valor >= limite}\n",
        "    return dicionario_comprimido"
      ],
      "metadata": {
        "id": "OnMj1C7FKr70"
      },
      "execution_count": 56,
      "outputs": []
    },
    {
      "cell_type": "markdown",
      "source": [
        "\n",
        "\n",
        "```\n",
        "7. Frequência de Palavras em Texto\n",
        "Conte a frequência de cada palavra em um texto usando um dicionário.\n",
        "```\n",
        "\n"
      ],
      "metadata": {
        "id": "6AIxNFK-EQ1D"
      }
    },
    {
      "cell_type": "code",
      "source": [
        "texto = \"Sou a camila e tenhoo 19 anos\"\n",
        "def conta_palavras(texto):\n",
        "    palavras = texto.split()\n",
        "    resultado = {}\n",
        "    for palavra in palavras:\n",
        "        resultado[palavra] = palavras.count(palavra)\n",
        "    return resultado\n",
        "\n",
        "conta_palavras(texto)"
      ],
      "metadata": {
        "id": "OnT9Lc9tE6w_"
      },
      "execution_count": null,
      "outputs": []
    },
    {
      "cell_type": "markdown",
      "source": [
        "\n",
        "\n",
        "```\n",
        "8. Ordenação de Dicionário por Valor\n",
        "Ordene um dicionário com base nos valores, em ordem decrescente.\n",
        "```\n",
        "\n"
      ],
      "metadata": {
        "id": "kwWqh2igEWBR"
      }
    },
    {
      "cell_type": "code",
      "source": [
        "dicionario = {'camila': 10, 'bruna': 21, 'carol': 20, 'damiao': 15}\n",
        "dicionario_decrescente = {chave: valor for chave, valor in sorted(dicionario.items(), key=lambda item: item[1], reverse=True)}\n",
        "print(dicionario_decrescente)\n"
      ],
      "metadata": {
        "id": "dyCkKtaSFjhd"
      },
      "execution_count": null,
      "outputs": []
    },
    {
      "cell_type": "markdown",
      "source": [
        "\n",
        "\n",
        "```\n",
        "9. Dicionário de Matrizes\n",
        "Crie um dicionário de matrizes, onde as chaves são coordenadas e os valores são\n",
        "os elementos correspondentes.\n",
        "```\n",
        "\n"
      ],
      "metadata": {
        "id": "rQkpfLI3GkkU"
      }
    },
    {
      "cell_type": "code",
      "source": [
        "def dicionario_matriz(matriz):\n",
        "    dicionario_matrizes = {(i, j): matriz[i][j] for i in range(len(matriz)) for j in range(len(matriz[0]))}\n",
        "    return dicionario_matrizes\n",
        "matriz_exemplo = [\n",
        "    [9, 12, 6],\n",
        "    [4, 23, 17],\n",
        "    [12, 8, 19]\n",
        "]\n",
        "matrizes = dicionario_matriz(matriz_exemplo)\n",
        "print(matrizes)"
      ],
      "metadata": {
        "id": "fl9oCEfNGos6"
      },
      "execution_count": null,
      "outputs": []
    },
    {
      "cell_type": "markdown",
      "source": [
        "\n",
        "\n",
        "```\n",
        "10. Mapeamento de Palavras\n",
        "Crie um dicionário que mapeie palavras em um texto para palavras diferentes com\n",
        "base em um dicionário de substituição.\n",
        "```\n",
        "\n"
      ],
      "metadata": {
        "id": "gkM8VZLvGpDS"
      }
    },
    {
      "cell_type": "code",
      "source": [
        "dicionario01 = {\n",
        "    \"Jovem\": \"adulta\",\n",
        "    \"era\" : \"é\",\n",
        "    \"promessa\": \"craque\"\n",
        "}\n",
        "\n",
        "texto = \"Jovem era uma promessa\"\n",
        "\n",
        "def texto_novo(texto, dicionario):\n",
        "    texto = texto.lower()\n",
        "    for palavra, substituicao in dicionario.items():\n",
        "        texto = texto.replace(palavra.lower(), substituicao.lower())\n",
        "    return texto.upper()\n",
        "novo_texto = texto_novo(texto, dicionario01)\n",
        "print(novo_texto)\n"
      ],
      "metadata": {
        "id": "o6GgwTh7GslW"
      },
      "execution_count": null,
      "outputs": []
    }
  ]
}