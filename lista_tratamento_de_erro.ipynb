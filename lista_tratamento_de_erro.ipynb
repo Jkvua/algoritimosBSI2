{
  "nbformat": 4,
  "nbformat_minor": 0,
  "metadata": {
    "colab": {
      "provenance": [],
      "authorship_tag": "ABX9TyM3Re7sy75+3YJqGBEHT5z5",
      "include_colab_link": true
    },
    "kernelspec": {
      "name": "python3",
      "display_name": "Python 3"
    },
    "language_info": {
      "name": "python"
    }
  },
  "cells": [
    {
      "cell_type": "markdown",
      "metadata": {
        "id": "view-in-github",
        "colab_type": "text"
      },
      "source": [
        "<a href=\"https://colab.research.google.com/github/Jkvua/desafio_2sem/blob/main/lista_tratamento_de_erro.ipynb\" target=\"_parent\"><img src=\"https://colab.research.google.com/assets/colab-badge.svg\" alt=\"Open In Colab\"/></a>"
      ]
    },
    {
      "cell_type": "markdown",
      "source": [
        "\n",
        "\n",
        "```\n",
        "1. Escreva uma função que recebe dois números como argumentos e retorna a\n",
        "divisão do primeiro pelo segundo. Use um bloco try/except para tratar o caso em\n",
        "que o segundo número é zero e lance uma exceção personalizada com a\n",
        "mensagem \"Divisão por zero não permitida\".\n",
        "```\n",
        "\n"
      ],
      "metadata": {
        "id": "j32sn4OZuhvh"
      }
    },
    {
      "cell_type": "code",
      "source": [
        "numero = int(input('Digite um numero: '))\n",
        "dnumero = 0\n",
        "\n",
        "try:\n",
        "    divisao = numero / dnumero\n",
        "except ZeroDivisionError:\n",
        "    print('Divisão por zero não permitida')"
      ],
      "metadata": {
        "id": "EXbnftazwWJS"
      },
      "execution_count": null,
      "outputs": []
    },
    {
      "cell_type": "markdown",
      "source": [
        "\n",
        "\n",
        "```\n",
        "2. Escreva um programa que solicita ao usuário uma data no formato \"dd/mm/aaaa\"\n",
        "e verifica se ela é válida. Use um bloco `try/except` para tratar o caso em que o\n",
        "usuário digita uma data inválida e lance uma exceção personalizada com a\n",
        "mensagem “Data inválida”.\n",
        "```\n",
        "\n"
      ],
      "metadata": {
        "id": "-aocSv7Wurn2"
      }
    },
    {
      "cell_type": "code",
      "source": [
        "data = input(\"Informe uma data no formato 'dd/mm/aaaa': \")\n",
        "dia,mes,ano = data.split('/')\n",
        "try:\n",
        "    dia = int(dia)\n",
        "    mes = int(mes)\n",
        "    ano = int(ano)\n",
        "\n",
        "    if dia < 31 and mes < 12:\n",
        "      print(\"valida\",data)\n",
        "    if dia > 31 and mes > 12:\n",
        "      print('data invalida')\n",
        "except ValueError:\n",
        "    print('data invalida')\n"
      ],
      "metadata": {
        "id": "mhspMG6kuuHw"
      },
      "execution_count": null,
      "outputs": []
    },
    {
      "cell_type": "code",
      "source": [
        "data = input(\"Informe uma data no formato 'dd/mm/aaaa': \")\n",
        "dia,mes,ano = data.split('/')\n",
        "try:\n",
        "    dia = int(dia)\n",
        "    mes = int(mes)\n",
        "    ano = int(ano)\n",
        "\n",
        "    if dia < 31 and mes < 12:\n",
        "      print(\"valida\",data)\n",
        "    else:\n",
        "      print('Essa data é invalida')\n",
        "except ValueError:\n",
        "    print('data invalida')"
      ],
      "metadata": {
        "id": "UU-5rWtT9OMQ"
      },
      "execution_count": null,
      "outputs": []
    },
    {
      "cell_type": "markdown",
      "source": [
        "\n",
        "\n",
        "```\n",
        "3. Escreva uma função que recebe uma lista de números como argumento e retorna a\n",
        "soma dos elementos da lista. Use um bloco `try/except` para tratar o caso em que\n",
        "a lista contém algum elemento que não é um número e lance uma exceção\n",
        "personalizada com a mensagem “Lista inválida”.\n",
        "```\n",
        "\n"
      ],
      "metadata": {
        "id": "2MFqqj_3uu63"
      }
    },
    {
      "cell_type": "code",
      "source": [
        "def verificar(listas):\n",
        "  sum(listas)\n",
        "try:\n",
        "      5 + 's'\n",
        "except TypeError:\n",
        "    print(\"Lista invalida\")\n",
        "\n",
        "listas = [1,2,3,4,5, 's']"
      ],
      "metadata": {
        "id": "MELDgeM_uy8P"
      },
      "execution_count": null,
      "outputs": []
    },
    {
      "cell_type": "markdown",
      "source": [
        "\n",
        "\n",
        "```\n",
        "4. Escreva um programa que solicita ao usuário um nome de arquivo e tenta abri-lo\n",
        "para leitura. Use um bloco `try/except` para tratar o caso em que o arquivo não\n",
        "existe ou não pode ser aberto e lance uma exceção personalizada com a\n",
        "mensagem “Arquivo inválido”.\n",
        "```\n",
        "\n"
      ],
      "metadata": {
        "id": "BE4CwWPUBHHj"
      }
    },
    {
      "cell_type": "code",
      "source": [
        "nome_arquivo = input(\"Informe o nome do arquivo que deseja abrir: \")\n",
        "try:\n",
        "  abrir = open('arquivos/nome_arquivo','r')\n",
        "except IOError:\n",
        "    print (\"Erro: arquivo não encontrado ou não pode ser lido.\")\n",
        "else:\n",
        "    print (\"Conteúdo gravado com sucesso!\")\n",
        "    abrir.close()"
      ],
      "metadata": {
        "id": "qqBDYS80BMXK"
      },
      "execution_count": null,
      "outputs": []
    },
    {
      "cell_type": "markdown",
      "source": [
        "\n",
        "\n",
        "```\n",
        "5. Escreva um código que tente abrir um arquivo com o modo de escrita, porém o\n",
        "arquivo já existe. Se ocorrer uma exceção, imprima uma mensagem de erro.\n",
        "```\n",
        "\n"
      ],
      "metadata": {
        "id": "fG_g2g7DCoI6"
      }
    },
    {
      "cell_type": "code",
      "source": [
        "novo_arquivo = open('tempo.txt', 'w')\n",
        "for i in range(1):\n",
        "  print(\"\")\n",
        "try:\n",
        "  abrir = open('arquivos/tempo','w')\n",
        "except IOError:\n",
        "  print(\"Erro: Arquivo já existe\")\n",
        "else:\n",
        "  print('arquivo aberto, pronto para a escrita')\n",
        "  abrir.close()"
      ],
      "metadata": {
        "id": "ikBcBqdRC2T3"
      },
      "execution_count": null,
      "outputs": []
    },
    {
      "cell_type": "markdown",
      "source": [
        "\n",
        "\n",
        "```\n",
        "6. Escreva uma função que recebe um número inteiro positivo como argumento e\n",
        "retorna o fatorial desse número. Use um bloco `try/except` para tratar o caso em\n",
        "que o argumento é negativo ou não é um inteiro e lance uma exceção\n",
        "personalizada com a mensagem “Argumento inválido”.\n",
        "```\n",
        "\n"
      ],
      "metadata": {
        "id": "Bi1KTDuVFSis"
      }
    },
    {
      "cell_type": "code",
      "source": [
        "import math\n",
        "\n",
        "def fatoracao(numero):\n",
        "    try:\n",
        "        if numero < 0:\n",
        "            raise ValueError('Argumento inválido')\n",
        "\n",
        "        fato = math.factorial(int(numero))\n",
        "        return fato\n",
        "    except ValueError as e:\n",
        "        return str(e)\n",
        "\n",
        "numero = float(input(\"Informe um número: \"))\n",
        "print(fatoracao(numero))"
      ],
      "metadata": {
        "id": "_yckCK_1EQQ9"
      },
      "execution_count": null,
      "outputs": []
    },
    {
      "cell_type": "markdown",
      "source": [
        "\n",
        "\n",
        "```\n",
        "7. Escreva uma função que recebe uma string como argumento e retorna o número\n",
        "de vogais contidas nessa string. Use um bloco `try/except` para tratar o caso em\n",
        "que o argumento não é uma string e lance uma exceção personalizada com a\n",
        "mensagem “Argumento inválido”.\n",
        "```\n",
        "\n"
      ],
      "metadata": {
        "id": "xrJ4dBuMx-CY"
      }
    },
    {
      "cell_type": "code",
      "source": [
        "import re\n",
        "from collections import Counter\n",
        "\n",
        "def pergunta(numestr):\n",
        "  try:\n",
        "    quan_vogais = Counter(re.sub('[^aeiouAEIOU]', '', numestr))\n",
        "    print(quan_vogais)\n",
        "    return quan_vogais\n",
        "  except TypeError:\n",
        "    print('Argumento inválido')\n",
        "\n",
        "frase = input('Digite uma frase: ')\n",
        "resul = pergunta(frase)"
      ],
      "metadata": {
        "id": "1MZrdVyCyBPD"
      },
      "execution_count": null,
      "outputs": []
    },
    {
      "cell_type": "markdown",
      "source": [
        "\n",
        "\n",
        "```\n",
        "8. Escreva uma função que recebe uma lista de strings como argumento e retorna\n",
        "uma nova lista com estas strings ordenadas alfabeticamente. Use um bloco\n",
        "`try/except` para tratar o caso em que a lista contém algum elemento que não é\n",
        "uma string e lance uma exceção personalizada com a mensagem “Lista inválida”.\n",
        "```\n",
        "\n"
      ],
      "metadata": {
        "id": "eLwZu7SXQoLm"
      }
    },
    {
      "cell_type": "code",
      "source": [
        "def lista_string(lista):\n",
        "  try:\n",
        "    lista_ordem = sorted(lista)\n",
        "    print(lista_ordem)\n",
        "    return lista_ordem\n",
        "  except TypeError:\n",
        "    print('Lista Inválida')\n",
        "\n",
        "lista = ['Jandira', 'Damião', 'Carolina', 'Camila']\n",
        "resultado = lista_string(lista)"
      ],
      "metadata": {
        "id": "Hae81_ClQx9P"
      },
      "execution_count": null,
      "outputs": []
    },
    {
      "cell_type": "markdown",
      "source": [
        "\n",
        "\n",
        "```\n",
        "9. Escreva um programa que solicite ao usuário um índice e, em seguida, tente\n",
        "acessar um elemento em uma lista. Trate exceções caso o índice esteja fora dos\n",
        "limites da lista.\n",
        "```\n",
        "\n"
      ],
      "metadata": {
        "id": "hZyl88K3tGCX"
      }
    },
    {
      "cell_type": "code",
      "source": [
        "def index_lista(lista):\n",
        "  try:\n",
        "    index = int(input(\"Informe um index: \"))\n",
        "    return lista[index]\n",
        "  except IndexError:\n",
        "    return \"Está fora dos limites da lista\"\n",
        "\n",
        "lista = ['1','2','3','4','5']\n",
        "resultado = index_lista(lista)\n",
        "print(resultado)"
      ],
      "metadata": {
        "id": "qaha7lLHtWTi"
      },
      "execution_count": null,
      "outputs": []
    },
    {
      "cell_type": "markdown",
      "source": [
        "\n",
        "\n",
        "```\n",
        "10. Peça ao usuário para digitar um número inteiro e, em seguida, tente converter\n",
        "esse número em uma string. Trate a exceção que pode ocorrer.\n",
        "```\n",
        "\n"
      ],
      "metadata": {
        "id": "oCGFBFfG3aTZ"
      }
    },
    {
      "cell_type": "code",
      "source": [
        "try:\n",
        "  numero = int(input(\"Informe um numero inteiro: \"))\n",
        "  numero_string = str(numero)\n",
        "  print(numero_string)\n",
        "except ValueError:\n",
        "  print(\"Numero Inválido\")"
      ],
      "metadata": {
        "id": "TXmU6nAJ3iP1"
      },
      "execution_count": null,
      "outputs": []
    },
    {
      "cell_type": "markdown",
      "source": [
        "\n",
        "```\n",
        "11. Crie um programa que leia as configurações de um arquivo e trate exceções caso o\n",
        "arquivo contenha erros de formatação.\n",
        "```\n",
        "\n"
      ],
      "metadata": {
        "id": "L41X310Z-xBl"
      }
    },
    {
      "cell_type": "code",
      "source": [
        "try:\n",
        "  with open('tempo.txt', 'r') as abrir_arquivo:\n",
        "    configuracao = abrir_arquivo.read()\n",
        "    config = eval(configuracao)\n",
        "    print(config)\n",
        "except SyntaxError:\n",
        "  print('Erros de formatação')"
      ],
      "metadata": {
        "id": "7ur_tLTU-8OF"
      },
      "execution_count": null,
      "outputs": []
    },
    {
      "cell_type": "markdown",
      "source": [
        "\n",
        "\n",
        "```\n",
        "12. Peça ao usuário para digitar uma chave e, em seguida, tente acessar um valor em\n",
        "um dicionário. Trate exceções caso a chave não exista.\n",
        "```\n",
        "\n"
      ],
      "metadata": {
        "id": "mMiKwMTQFMBg"
      }
    },
    {
      "cell_type": "code",
      "source": [
        "dicionario = {'camila': '19', 'carolina': '22', 'jandira': '56', 'damião': '55'}\n",
        "try:\n",
        "  chave_informada = input('Informe uma chave: ')\n",
        "  valor = dicionario[chave_informada]\n",
        "  print(f'o valor associado à chave: {chave_informada} é {valor}')\n",
        "except KeyError:\n",
        "  print(f'A chave não existe no dicionario')"
      ],
      "metadata": {
        "id": "uJBl2EXiF-S_"
      },
      "execution_count": null,
      "outputs": []
    },
    {
      "cell_type": "markdown",
      "source": [
        "\n",
        "\n",
        "```\n",
        "13. Escreva um programa que trate uma exceção genérica, como `Exception`, e\n",
        "imprima uma mensagem personalizada.\n",
        "```\n",
        "\n"
      ],
      "metadata": {
        "id": "7E1AwVtkIwg-"
      }
    },
    {
      "cell_type": "code",
      "source": [
        "try:\n",
        "  x = 15\n",
        "  if x > 5:\n",
        "    raise Exception(f'x não pode exceder o valor 5. O valor de x era: {x}')\n",
        "except Exception as e:\n",
        "  print(f'Erro de exceção {e}: ')\n"
      ],
      "metadata": {
        "id": "nJQTkchkI5VL"
      },
      "execution_count": null,
      "outputs": []
    },
    {
      "cell_type": "markdown",
      "source": [
        "\n",
        "\n",
        "```\n",
        "14. Crie um programa que peça ao usuário para digitar uma senha com pelo menos 8\n",
        "caracteres. Trate exceções caso a senha seja muito curta.\n",
        "```\n",
        "\n"
      ],
      "metadata": {
        "id": "D24HFnM7NtvM"
      }
    },
    {
      "cell_type": "code",
      "source": [
        "try:\n",
        "  senha_usuario = input('Informe sua senha: ')\n",
        "  if len(senha_usuario) < 8:\n",
        "    print('Senha muito curta')\n",
        "  else:\n",
        "    print('Excelente')\n",
        "except TypeError:\n",
        "  print('Senha muito curta')"
      ],
      "metadata": {
        "id": "bTckGe78N2Pi"
      },
      "execution_count": null,
      "outputs": []
    },
    {
      "cell_type": "markdown",
      "source": [
        "\n",
        "\n",
        "```\n",
        "15. Escreva um programa que divida uma lista em partes iguais e trate exceções se o\n",
        "número de partes não for válido.\n",
        "```\n",
        "\n"
      ],
      "metadata": {
        "id": "T3DaFJF4VX4c"
      }
    },
    {
      "cell_type": "code",
      "source": [
        "def dividir_lista(lista, partes):\n",
        "  try:\n",
        "    tamanho = len(lista) // partes\n",
        "    divisao_partes = [lista[i * tamanho:(i + 1) * tamanho]for i in range (partes)]\n",
        "    return divisao_partes\n",
        "  except IndexError:\n",
        "    print('O valor de partes não é valido')\n",
        "\n",
        "listas = [1,2,3,4]\n",
        "partes_numero = input(\"Informe o número de partes: \")\n",
        "\n",
        "try:\n",
        "  partes_numero = int(partes_numero)\n",
        "  resul = dividir_lista(listas, partes_numero)\n",
        "  print(resul)\n",
        "except ValueError:\n",
        "  print('O numero de partes não é valido')"
      ],
      "metadata": {
        "id": "tuxiui1rVaa_"
      },
      "execution_count": null,
      "outputs": []
    },
    {
      "cell_type": "markdown",
      "source": [
        "\n",
        "\n",
        "```\n",
        "16. Escreva um programa que manipule múltiplas exceções em um bloco `try/except`.\n",
        "```\n",
        "\n"
      ],
      "metadata": {
        "id": "RrR64EilbTjF"
      }
    },
    {
      "cell_type": "code",
      "source": [
        "def excecoes_multiplas():\n",
        "    try:\n",
        "        idade = int(input(\"Informe sua idade: \"))\n",
        "        if idade < 0:\n",
        "            raise ValueError(\"A idade não pode menor que zero.\")\n",
        "        valor = float(input(\"Informe um valor: \"))\n",
        "        if valor < 0:\n",
        "            raise ValueError(\"O valor não pode ser negativo.\")\n",
        "        nome = input(\"Digite seu nome: \")\n",
        "        if not nome:\n",
        "            raise ValueError(\"O nome não pode ser vazio.\")\n",
        "        print(\"\\nInformações validas!\")\n",
        "    except ValueError as ve:\n",
        "        print(f\"Erro: {ve}\")\n",
        "\n",
        "excecoes_multiplas()\n"
      ],
      "metadata": {
        "id": "6MlK0s7ue0Aq"
      },
      "execution_count": null,
      "outputs": []
    },
    {
      "cell_type": "markdown",
      "source": [
        "\n",
        "\n",
        "```\n",
        "17. Escreva um programa que contenha um loop infinito e trate exceções para permitir\n",
        "ao usuário interrompê-lo.\n",
        "```\n",
        "\n"
      ],
      "metadata": {
        "id": "_aomu6dde0_Y"
      }
    },
    {
      "cell_type": "code",
      "source": [
        "while True:\n",
        "    try:\n",
        "        num = int(input(\"Digite um número: \"))\n",
        "        if num == 1 :\n",
        "            break\n",
        "        resultado = 10 / num\n",
        "        print(\"Resultado:\", resultado)\n",
        "    except ValueError:\n",
        "        print(\"Forneça um número inteiro.\")\n",
        "    except ZeroDivisionError:\n",
        "        print(\"Não é possivel divisão por zero.\")"
      ],
      "metadata": {
        "id": "plAfgxD3e98x"
      },
      "execution_count": null,
      "outputs": []
    },
    {
      "cell_type": "markdown",
      "source": [
        "\n",
        "\n",
        "```\n",
        "18. Crie um programa que trate exceções aninhadas em um bloco `try/except`.\n",
        "```\n",
        "\n"
      ],
      "metadata": {
        "id": "cBRwP3s2glL_"
      }
    },
    {
      "cell_type": "code",
      "source": [
        "def bloco_alinhado():\n",
        "  try:\n",
        "    valor1 = int(input(\"Informe um valor: \"))\n",
        "    try:\n",
        "      valor2 = int(input(\"Informe um segundo valor: \"))\n",
        "      resul = valor1 / valor2\n",
        "      print(f\"O resulado é {resul}\")\n",
        "    except ValueError:\n",
        "      print('Informe um valor válido')\n",
        "  except ValueError:\n",
        "    print('Informe um valor válido')\n",
        ""
      ],
      "metadata": {
        "id": "xr6bUWwUg0YG"
      },
      "execution_count": 80,
      "outputs": []
    },
    {
      "cell_type": "markdown",
      "source": [
        "\n",
        "\n",
        "```\n",
        "19. Escreva um programa que utilize o bloco `else` para tratar exceções.\n",
        "```\n",
        "\n"
      ],
      "metadata": {
        "id": "ZdsARKF3mbhV"
      }
    },
    {
      "cell_type": "code",
      "source": [
        "while True:\n",
        "    try:\n",
        "      tratar_excecoes = input(\"Informe seu nome: \")\n",
        "      if tratar_excecoes == 'camila':\n",
        "        print('Muito bom!')\n",
        "      else:\n",
        "        raise ValueError('Nome Inválido')\n",
        "    except ValueError as ve:\n",
        "      print(f\"Erro: {ve}\")\n",
        "    else:\n",
        "      print(\"Sucesso!\")\n",
        "      break"
      ],
      "metadata": {
        "id": "X09AHCEOmjr8"
      },
      "execution_count": null,
      "outputs": []
    }
  ]
}