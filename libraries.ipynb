{
  "nbformat": 4,
  "nbformat_minor": 0,
  "metadata": {
    "colab": {
      "provenance": [],
      "authorship_tag": "ABX9TyPYCImr7jbXIHhvN9/IMPCD",
      "include_colab_link": true
    },
    "kernelspec": {
      "name": "python3",
      "display_name": "Python 3"
    },
    "language_info": {
      "name": "python"
    }
  },
  "cells": [
    {
      "cell_type": "markdown",
      "metadata": {
        "id": "view-in-github",
        "colab_type": "text"
      },
      "source": [
        "<a href=\"https://colab.research.google.com/github/Jkvua/desafio_2sem/blob/main/libraries.ipynb\" target=\"_parent\"><img src=\"https://colab.research.google.com/assets/colab-badge.svg\" alt=\"Open In Colab\"/></a>"
      ]
    },
    {
      "cell_type": "markdown",
      "source": [
        "\n",
        "\n",
        "```\n",
        "1- Importe o módulo math e calcule a raiz quadrada de um número inteiro.\n",
        "\n"
      ],
      "metadata": {
        "id": "YaZRpeDSb7ER"
      }
    },
    {
      "cell_type": "code",
      "execution_count": null,
      "metadata": {
        "id": "Jrg7LMUjb4rz"
      },
      "outputs": [],
      "source": [
        "import math\n",
        "\n",
        "valor = 25\n",
        "raiz = math.sqrt(valor)\n",
        "print(raiz)"
      ]
    },
    {
      "cell_type": "code",
      "source": [
        "from math import isqrt\n",
        "\n",
        "valor = isqrt(25)   # retorna a raiz quadrada inteira do inteiro não negativo n - math.isqrt(n)\n",
        "print(valor)"
      ],
      "metadata": {
        "id": "4WjulqzmeI8t"
      },
      "execution_count": null,
      "outputs": []
    },
    {
      "cell_type": "markdown",
      "source": [
        "\n",
        "\n",
        "```\n",
        "2- Importe o módulo datetime e exiba a data e hora atuais.\n",
        "```\n",
        "\n"
      ],
      "metadata": {
        "id": "Z6zvsB1EfPN9"
      }
    },
    {
      "cell_type": "code",
      "source": [
        "from datetime import datetime\n",
        "\n",
        "horas = datetime.now()\n",
        "print(horas)"
      ],
      "metadata": {
        "id": "2oXgmhIjhfxB"
      },
      "execution_count": null,
      "outputs": []
    },
    {
      "cell_type": "markdown",
      "source": [
        "\n",
        "\n",
        "```\n",
        "3- Use o módulo string para verificar se uma string contém apenas dígitos.\n",
        "```\n",
        "\n"
      ],
      "metadata": {
        "id": "95O_hhqHiJjA"
      }
    },
    {
      "cell_type": "code",
      "source": [
        "nome = \"camilaBSIdois\"\n",
        "if nome.isdigit():\n",
        "  print('falso, não contém digitos')\n",
        "else:\n",
        "  print('verdadeiro, contém apenas dígitos')"
      ],
      "metadata": {
        "id": "iZhn7j2aiStT"
      },
      "execution_count": null,
      "outputs": []
    },
    {
      "cell_type": "markdown",
      "source": [
        "\n",
        "\n",
        "```\n",
        "4- Importe o módulo random e gere um número aleatório entre 1 e 100.\n",
        "```\n",
        "\n"
      ],
      "metadata": {
        "id": "mdg66GuSj6hf"
      }
    },
    {
      "cell_type": "code",
      "source": [
        "import random\n",
        "\n",
        "num = random.randint(1,100) # um aleatorio entre (a,b)\n",
        "print(num)\n"
      ],
      "metadata": {
        "id": "pb1EPl_pkCQX"
      },
      "execution_count": null,
      "outputs": []
    },
    {
      "cell_type": "markdown",
      "source": [
        "\n",
        "\n",
        "```\n",
        "5- Importe a biblioteca numpy e crie uma array com os números de 1 a 10.\n",
        "```\n",
        "\n"
      ],
      "metadata": {
        "id": "_ah4qx7jmWR5"
      }
    },
    {
      "cell_type": "code",
      "source": [
        "import array\n",
        "import numpy\n",
        "\n",
        "numero = numpy.array\n",
        "for numero in range(1,11):\n",
        "  print(numero)"
      ],
      "metadata": {
        "id": "WknL1Ytzmcf1"
      },
      "execution_count": null,
      "outputs": []
    },
    {
      "cell_type": "code",
      "source": [
        "import numpy as np\n",
        "\n",
        "valores = np.array\n",
        "for valores in range(1,11):\n",
        "  print(valores)"
      ],
      "metadata": {
        "id": "1YS6bRAIqFut"
      },
      "execution_count": null,
      "outputs": []
    },
    {
      "cell_type": "markdown",
      "source": [
        "\n",
        "\n",
        "```\n",
        "6- Escreva um programa que importe o pacote numpy e crie uma matriz de zeros\n",
        "com dimensões 3x3.\n",
        "```\n",
        "\n"
      ],
      "metadata": {
        "id": "LVXVePUuqsbM"
      }
    },
    {
      "cell_type": "code",
      "source": [
        "import numpy as np\n",
        "\n",
        "matriz = np.zeros((3,3)) # retorna uma nova matriz de determinado formato e tipo, preenchida com zeros.\n",
        "print(matriz)"
      ],
      "metadata": {
        "id": "XodweXLYtz2c"
      },
      "execution_count": null,
      "outputs": []
    },
    {
      "cell_type": "markdown",
      "source": [
        "\n",
        "\n",
        "```\n",
        "7- Importe a biblioteca matplotlib e crie um gráfico de barras simples com alguns\n",
        "dados fictícios.\n",
        "```\n",
        "\n"
      ],
      "metadata": {
        "id": "rAEt7tCVw0jo"
      }
    },
    {
      "cell_type": "code",
      "source": [
        "import matplotlib.pyplot as plt\n",
        "import numpy as np\n",
        "\n",
        "filmes_x = ['Avatar 1', 'Ultimato', 'Avatar 2', 'Titanic', 'Star Wars 7']\n",
        "bilheteria_y = [2.847, 2.797, 2.247, 2.245, 2.069]\n",
        "\n",
        "plt.bar(filmes_x, bilheteria_y)\n",
        "plt.show()"
      ],
      "metadata": {
        "id": "rB9q7bB8w3Mk"
      },
      "execution_count": null,
      "outputs": []
    },
    {
      "cell_type": "markdown",
      "source": [
        "\n",
        "\n",
        "```\n",
        "8- Escreva um programa que importe o pacote matplotlib e plote a função seno\n",
        "```\n",
        "\n"
      ],
      "metadata": {
        "id": "uNqXBbgHzh-r"
      }
    },
    {
      "cell_type": "code",
      "source": [
        "import matplotlib.pyplot as plt\n",
        "import numpy as np\n",
        "\n",
        "plt.grid(True)\n",
        "eixo_x = np.arange(0, 6, 0.2)\n",
        "eixo_y = np.sin(eixo_x)\n",
        "plt.plot(eixo_x, eixo_y)\n",
        "plt.show()"
      ],
      "metadata": {
        "id": "EXN087j5znN-"
      },
      "execution_count": null,
      "outputs": []
    },
    {
      "cell_type": "markdown",
      "source": [
        "\n",
        "\n",
        "```\n",
        "9- Importe o pacote requests e faça uma requisição HTTP para um URL e exiba o\n",
        "código de status.\n",
        "```\n",
        "\n"
      ],
      "metadata": {
        "id": "9fBUW-c1Wr9N"
      }
    },
    {
      "cell_type": "code",
      "source": [
        "import requests\n",
        "\n",
        "url = ('https://rachacuca.com.br/palavras/sopa-de-letras/')\n",
        "test = requests.get(url)\n",
        "print(test.status_code)"
      ],
      "metadata": {
        "id": "w9k3svYkWyTv"
      },
      "execution_count": null,
      "outputs": []
    },
    {
      "cell_type": "markdown",
      "source": [
        "\n",
        "\n",
        "```\n",
        "10- Importe a biblioteca pandas, leia um arquivo CSV (por exemplo, \"dados.csv\") e\n",
        "exiba as primeiras linhas do DataFrame.\n",
        "```\n",
        "\n"
      ],
      "metadata": {
        "id": "5Rk1UaswYo5G"
      }
    },
    {
      "cell_type": "code",
      "source": [
        "import pandas as pd\n",
        "\n",
        "df = pd.read_csv('dataset.csv')\n",
        "parte = df.head(2)\n",
        "print(parte)"
      ],
      "metadata": {
        "id": "_maqrG1fYyiS"
      },
      "execution_count": null,
      "outputs": []
    },
    {
      "cell_type": "markdown",
      "source": [
        "\n",
        "\n",
        "```\n",
        "11- Escreva um programa que importe o módulo os e imprima o diretório de trabalho\n",
        "atual.\n",
        "```\n",
        "\n"
      ],
      "metadata": {
        "id": "8Xxm7F2cbYFy"
      }
    },
    {
      "cell_type": "code",
      "source": [
        "import os\n",
        "\n",
        "diretorio_atual = os.getcwd() # imprimir o diretorio atual\n",
        "print(f'O diretorio atual é: {diretorio_atual}')"
      ],
      "metadata": {
        "id": "wSxK3pu9bhLv"
      },
      "execution_count": null,
      "outputs": []
    },
    {
      "cell_type": "markdown",
      "source": [
        "\n",
        "\n",
        "```\n",
        "12- Escreva um programa que importe o pacote beautifulsoup4 e faça a raspagem  de dados (web crawling) de uma página HTML.  \n",
        "\n",
        "```\n",
        "\n"
      ],
      "metadata": {
        "id": "Qa2fM8MydjBJ"
      }
    },
    {
      "cell_type": "code",
      "source": [
        "from bs4 import BeautifulSoup\n",
        "import requests\n",
        "\n",
        "sit = ('https://rachacuca.com.br/palavras/sopa-de-letras/')\n",
        "raspagem = requests.get(sit)\n",
        "print(raspagem.text)"
      ],
      "metadata": {
        "id": "nGS48LrDdiZp"
      },
      "execution_count": null,
      "outputs": []
    },
    {
      "cell_type": "markdown",
      "source": [
        "\n",
        "\n",
        "```\n",
        "13- Crie um módulo personalizado chamado de calculadora com uma função que  some dois números. Em seguida, importe e use essa função.  \n",
        "```\n",
        "\n"
      ],
      "metadata": {
        "id": "LNrleRofdiN_"
      }
    },
    {
      "cell_type": "code",
      "source": [
        "%%writefile calculadora.py\n",
        "def somar(a,b):\n",
        "  return a + b\n"
      ],
      "metadata": {
        "id": "Khcv79VLfKz2"
      },
      "execution_count": null,
      "outputs": []
    },
    {
      "cell_type": "code",
      "source": [
        "from calculadora import somar\n",
        "result = somar(5, 3)\n",
        "print(result)"
      ],
      "metadata": {
        "id": "LrhWMREYgiic"
      },
      "execution_count": null,
      "outputs": []
    },
    {
      "cell_type": "markdown",
      "source": [
        "\n",
        "\n",
        "```\n",
        "14- Suponha que estamos desenvolvendo um jogo. Uma possível organização de  pacotes e módulos poderia ser mostrada na figura abaixo\n",
        "```\n",
        "\n"
      ],
      "metadata": {
        "id": "RtUAwSEthoJV"
      }
    },
    {
      "cell_type": "markdown",
      "source": [
        "\n",
        "\n",
        "```\n",
        "a) Importar o módulo start\n",
        "```\n",
        "\n"
      ],
      "metadata": {
        "id": "blAYgmXjiHsl"
      }
    },
    {
      "cell_type": "code",
      "source": [
        "import game.Level.start\n"
      ],
      "metadata": {
        "id": "LUAO51DWj-tX"
      },
      "execution_count": null,
      "outputs": []
    },
    {
      "cell_type": "markdown",
      "source": [
        "\n",
        "\n",
        "```\n",
        "b) Suponha que este módulo (i.e. start), contém uma função chamada  select_dificulty(). Qual o comando para importá-lo?\n",
        "```\n",
        "\n"
      ],
      "metadata": {
        "id": "sOvV3_AwkCPk"
      }
    },
    {
      "cell_type": "code",
      "source": [
        "import game.Level.start.select_dificulty()"
      ],
      "metadata": {
        "id": "qmWJuZr6iL3s"
      },
      "execution_count": null,
      "outputs": []
    },
    {
      "cell_type": "markdown",
      "source": [
        "\n",
        "\n",
        "```\n",
        "c) Importe o módulo change sem usar o prefixo do pacote\n",
        "```\n",
        "\n"
      ],
      "metadata": {
        "id": "6St5BgNBkLGY"
      }
    },
    {
      "cell_type": "code",
      "source": [
        "from game.Image import change"
      ],
      "metadata": {
        "id": "LlbnjSUfkYs1"
      },
      "execution_count": null,
      "outputs": []
    },
    {
      "cell_type": "markdown",
      "source": [
        "\n",
        "\n",
        "```\n",
        "d) Agora escreva o comando para importar o módulo play\n",
        "```\n",
        "\n"
      ],
      "metadata": {
        "id": "Q35UVEJWlOR5"
      }
    },
    {
      "cell_type": "code",
      "source": [
        "from game.Sound import play"
      ],
      "metadata": {
        "id": "lIJn4QgHlU35"
      },
      "execution_count": null,
      "outputs": []
    }
  ]
}