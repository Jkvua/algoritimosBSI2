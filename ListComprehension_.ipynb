{
  "nbformat": 4,
  "nbformat_minor": 0,
  "metadata": {
    "colab": {
      "provenance": [],
      "authorship_tag": "ABX9TyOQdQiWnn9l0NS885cRF+Fg",
      "include_colab_link": true
    },
    "kernelspec": {
      "name": "python3",
      "display_name": "Python 3"
    },
    "language_info": {
      "name": "python"
    }
  },
  "cells": [
    {
      "cell_type": "markdown",
      "metadata": {
        "id": "view-in-github",
        "colab_type": "text"
      },
      "source": [
        "<a href=\"https://colab.research.google.com/github/Jkvua/desafio_2sem/blob/main/ListComprehension_.ipynb\" target=\"_parent\"><img src=\"https://colab.research.google.com/assets/colab-badge.svg\" alt=\"Open In Colab\"/></a>"
      ]
    },
    {
      "cell_type": "markdown",
      "source": [
        "1 - Crie uma lista com os números de 1 a 10 usando compreensão de lista."
      ],
      "metadata": {
        "id": "36smL2XMcMn3"
      }
    },
    {
      "cell_type": "code",
      "execution_count": null,
      "metadata": {
        "id": "31HxcvQKcIwt"
      },
      "outputs": [],
      "source": [
        "c = [m for m in range(1,11)]\n",
        "print(c)\n"
      ]
    },
    {
      "cell_type": "markdown",
      "source": [
        "2 - Crie uma lista com os números ímpares de 1 a 50."
      ],
      "metadata": {
        "id": "SydSFGaSJEcK"
      }
    },
    {
      "cell_type": "code",
      "source": [
        "x = [y for y in range(1,50) if y % 2 == 1]\n",
        "print(x)"
      ],
      "metadata": {
        "id": "c-8EfeGfJD6W"
      },
      "execution_count": null,
      "outputs": []
    },
    {
      "cell_type": "markdown",
      "source": [
        "3 - Crie uma lista com as letras maiúsculas de uma string qualquer."
      ],
      "metadata": {
        "id": "8XjqwCwKJ77v"
      }
    },
    {
      "cell_type": "code",
      "source": [
        "nome = ['carro', 'festa','quadro','garrafa']\n",
        "nomes_capitalizados = [nome.capitalize() for nome in nome]\n",
        "print(nomes_capitalizados)"
      ],
      "metadata": {
        "id": "nKWZXHGDJ-w-"
      },
      "execution_count": null,
      "outputs": []
    },
    {
      "cell_type": "markdown",
      "source": [
        "4 - Crie uma lista com o comprimento de cada palavra em uma string."
      ],
      "metadata": {
        "id": "PkFsbl7qLquk"
      }
    },
    {
      "cell_type": "code",
      "source": [
        "palavra = ['suco']\n",
        "palavras = len([x for x in palavra])\n",
        "print(palavras)"
      ],
      "metadata": {
        "id": "JijEa-KALsm4"
      },
      "execution_count": null,
      "outputs": []
    },
    {
      "cell_type": "markdown",
      "source": [
        "5 - Crie uma lista com os números divisíveis por 3 e 5 de 1 a 30."
      ],
      "metadata": {
        "id": "UGwWqWjMN-l7"
      }
    },
    {
      "cell_type": "code",
      "source": [
        "s = [x for x in range(1,31) if x % 3 == 0 and x % 5 == 0]\n",
        "print(s)"
      ],
      "metadata": {
        "id": "BHfgZAiCOAQO"
      },
      "execution_count": null,
      "outputs": []
    },
    {
      "cell_type": "markdown",
      "source": [
        "6 - Crie uma lista com as palavras de uma string que tenham mais de 3 letras."
      ],
      "metadata": {
        "id": "Pa33YejOOTsa"
      }
    },
    {
      "cell_type": "code",
      "source": [
        "listobjetos = ['grampo','capinha','quadro','livro','copo', 'de']\n",
        "mais_de_tres_letras = [palavra for palavra in listobjetos if len(palavra) > 3]\n",
        "print(mais_de_tres_letras)"
      ],
      "metadata": {
        "id": "qBKYfLqZOWoU"
      },
      "execution_count": null,
      "outputs": []
    },
    {
      "cell_type": "markdown",
      "source": [
        "7 - Crie uma lista com os números primos de 1 a 20. Dica: use uma função para\n",
        "verificar se o número é primo ou não."
      ],
      "metadata": {
        "id": "HRDpkYo8RDPE"
      }
    },
    {
      "cell_type": "code",
      "source": [
        "for i in range(1,20):\n",
        "  if i>1:\n",
        "    for j in range(2,i):\n",
        "        if(i % j==0):\n",
        "            break\n",
        "    else:\n",
        "        print(i)"
      ],
      "metadata": {
        "id": "e-sXNUKHwbAh"
      },
      "execution_count": null,
      "outputs": []
    },
    {
      "cell_type": "code",
      "source": [
        "p = [x for x in range(2,20) if all(x % j !=0 for j in range(2,x))]\n",
        "print(p)"
      ],
      "metadata": {
        "id": "-zVLV39eRE3Z"
      },
      "execution_count": null,
      "outputs": []
    },
    {
      "cell_type": "markdown",
      "source": [
        "8 - Crie uma lista com as datas de todos os dias de fevereiro em um ano bissexto\n",
        "(considerando que um ano bissexto é divisível por 4)."
      ],
      "metadata": {
        "id": "EB3szxzYUbwt"
      }
    },
    {
      "cell_type": "code",
      "source": [
        "#complicado\n",
        "ano = 2024\n",
        "bissexto = [(ano % 4 == 0 and ano % 100 != 0) or (ano % 400 == 0)]\n",
        "fevereiro = [f\"{dia:02}/02/{ano}\" for dia in range(1,30) if bissexto or dia <= 28]\n",
        "print(fevereiro)"
      ],
      "metadata": {
        "id": "VKIW4WHyUgqi"
      },
      "execution_count": null,
      "outputs": []
    },
    {
      "cell_type": "markdown",
      "source": [
        "9 - Crie uma lista de strings com os primeiros 10 nomes da lista de nomes."
      ],
      "metadata": {
        "id": "-OZzv3CcYNXn"
      }
    },
    {
      "cell_type": "code",
      "source": [
        "nomes = [\n",
        "    'camila',\n",
        "    'carolina',\n",
        "    'julia',\n",
        "    'seth',\n",
        "    'samantha',\n",
        "    'marcos',\n",
        "    'tainara',\n",
        "    'rose',\n",
        "    'jandira',\n",
        "    'damião',\n",
        "    'sofia',\n",
        "    'louis',\n",
        "    'leah',\n",
        "    'alissa',\n",
        "    'tobin',\n",
        "    'christen',\n",
        "    'alissa',\n",
        "    'beatriz'\n",
        " ]\n",
        "\n",
        "primeiros_nomes = [x for x in nomes[:10]] # : no começo para pegar os dez primeiros elementos da lista\n",
        "print(primeiros_nomes)"
      ],
      "metadata": {
        "id": "yvyTEVElYSio"
      },
      "execution_count": null,
      "outputs": []
    },
    {
      "cell_type": "markdown",
      "source": [
        "10 - Crie uma lista de strings com os nomes dos primeiros 10 nomes da lista de\n",
        "nomes, mas com as primeiras letras maiúsculas."
      ],
      "metadata": {
        "id": "SfRjVkoAaviw"
      }
    },
    {
      "cell_type": "code",
      "source": [
        "letra_maiuscula = [nome.capitalize() for nome in nomes[:10]]\n",
        "print(letra_maiuscula)"
      ],
      "metadata": {
        "id": "DzzDeEJhazYD"
      },
      "execution_count": null,
      "outputs": []
    },
    {
      "cell_type": "markdown",
      "source": [
        "11- Crie uma lista de strings com os nomes dos primeiros 10 nomes da lista de\n",
        "nomes, mas sem as vogais."
      ],
      "metadata": {
        "id": "QAGIFc1RnBjU"
      }
    },
    {
      "cell_type": "code",
      "source": [
        "nomes = [\n",
        "    'camila',\n",
        "    'carolina',\n",
        "    'julia',\n",
        "    'seth',\n",
        "    'samantha',\n",
        "    'marcos',\n",
        "    'tainara',\n",
        "    'rose',\n",
        "    'jandira',\n",
        "    'damiao',\n",
        "    'sofia',\n",
        "    'louis',\n",
        "    'leah',\n",
        "    'alissa',\n",
        "    'tobin',\n",
        "    'christen',\n",
        "    'alissa',\n",
        "    'beatriz'\n",
        " ]\n",
        "\n",
        "def sem_vogal(texto):\n",
        "  vogal = 'AEIOUaeiou'\n",
        "  return ''.join([letra for letra in texto if letra not in vogal])\n",
        "\n",
        "sem_vogal = [sem_vogal(nome) for nome in nomes[:10]]\n",
        "print(sem_vogal)"
      ],
      "metadata": {
        "id": "N4H4Yv7onDI1"
      },
      "execution_count": null,
      "outputs": []
    },
    {
      "cell_type": "markdown",
      "source": [
        "12 - Concatenar elementos de sub-listas em uma única lista"
      ],
      "metadata": {
        "id": "88EMAAjBgeAn"
      }
    },
    {
      "cell_type": "code",
      "source": [
        "sublista = [['camila', 'carolina'], ['jandira','damião']]\n",
        "lista_concatenada = [elemento for sublista in sublista for elemento in sublista]\n",
        "print(lista_concatenada)"
      ],
      "metadata": {
        "id": "HWrLLr96rubZ"
      },
      "execution_count": null,
      "outputs": []
    },
    {
      "cell_type": "markdown",
      "source": [
        "13 - Criar um dicionário a partir de duas listas"
      ],
      "metadata": {
        "id": "LW8wuvfkgigm"
      }
    },
    {
      "cell_type": "code",
      "source": [
        "raca_cachorro = ['Akita','Beagle','Labrador','Terrier']\n",
        "descendem = ['Japão', 'Reino Unido', 'Canada', 'Reino Unido']\n",
        "dicionario = dict(zip(raca_cachorro, descendem)) #zip combina as duas listas e o dict cria o dicionario a partir disso\n",
        "print(dicionario)"
      ],
      "metadata": {
        "id": "-ZU4_FzD1Hk-"
      },
      "execution_count": null,
      "outputs": []
    }
  ]
}