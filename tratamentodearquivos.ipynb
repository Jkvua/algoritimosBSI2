{
  "nbformat": 4,
  "nbformat_minor": 0,
  "metadata": {
    "colab": {
      "provenance": [],
      "authorship_tag": "ABX9TyNTb9Jk7o4n22JrK9Bn7hjm",
      "include_colab_link": true
    },
    "kernelspec": {
      "name": "python3",
      "display_name": "Python 3"
    },
    "language_info": {
      "name": "python"
    }
  },
  "cells": [
    {
      "cell_type": "markdown",
      "metadata": {
        "id": "view-in-github",
        "colab_type": "text"
      },
      "source": [
        "<a href=\"https://colab.research.google.com/github/Jkvua/desafio_2sem/blob/main/tratamentodearquivos.ipynb\" target=\"_parent\"><img src=\"https://colab.research.google.com/assets/colab-badge.svg\" alt=\"Open In Colab\"/></a>"
      ]
    },
    {
      "cell_type": "markdown",
      "source": [
        "Exercícios 1 e 2 :"
      ],
      "metadata": {
        "id": "t8YjURbjUju-"
      }
    },
    {
      "cell_type": "code",
      "execution_count": 1,
      "metadata": {
        "id": "e5C_Pf-xMaJ0"
      },
      "outputs": [],
      "source": [
        "primeiro = open('texto.txt','w')\n",
        "for i in range(1):\n",
        "  primeiro.write('Olá mundo!!')\n",
        "\n",
        "primeiro.close()\n"
      ]
    },
    {
      "cell_type": "code",
      "source": [
        "primeiro = open('texto.txt', 'r')\n",
        "for i in primeiro.readlines():\n",
        "  print(i)\n",
        "\n",
        "primeiro.close()"
      ],
      "metadata": {
        "id": "fWKVfAsaVCa7"
      },
      "execution_count": null,
      "outputs": []
    },
    {
      "cell_type": "markdown",
      "source": [
        "Exercício 3 :"
      ],
      "metadata": {
        "id": "E4xtyB8LUuEu"
      }
    },
    {
      "cell_type": "code",
      "source": [
        "contador = open('texto.txt','r')\n",
        "for linha in contador:\n",
        "  print(linha)"
      ],
      "metadata": {
        "id": "6Mfo22jOT6DJ"
      },
      "execution_count": null,
      "outputs": []
    },
    {
      "cell_type": "markdown",
      "source": [
        "Exercício 4:"
      ],
      "metadata": {
        "id": "9yfr48BTYIjX"
      }
    },
    {
      "cell_type": "code",
      "source": [
        "arquivo_origem = open('texto.txt','r')\n",
        "conteudo = arquivo_origem.read()\n",
        "arquivo_origem.close()\n",
        "\n",
        "novo_arquivo = open('copia.tex', 'w')\n",
        "novo_arquivo.write(conteudo)\n",
        "novo_arquivo.close()\n",
        "\n",
        "print('Copia feita para o arquivo copia.txt')"
      ],
      "metadata": {
        "id": "xxXNrRxJYM9-"
      },
      "execution_count": null,
      "outputs": []
    },
    {
      "cell_type": "markdown",
      "source": [
        "Exercício 5 :"
      ],
      "metadata": {
        "id": "DVT020lvkKsO"
      }
    },
    {
      "cell_type": "code",
      "source": [
        "arquivo_origem1 = open('texto.txt','r')\n",
        "cont = arquivo_origem1.read()\n",
        "arquivo_origem1.close()\n",
        "\n",
        "arquivo_origem2 = open('/content/copia.tex','r')\n",
        "conte = arquivo_origem2.read()\n",
        "arquivo_origem2.close()\n",
        "\n",
        "copia_dupla = cont + conte\n",
        "\n",
        "novoarquivo = open('combinado.txt','w')\n",
        "novoarquivo.write(copia_dupla)\n",
        "novoarquivo.close()\n",
        "\n",
        "print('feito!')"
      ],
      "metadata": {
        "id": "6VeXAArgkeod"
      },
      "execution_count": null,
      "outputs": []
    },
    {
      "cell_type": "markdown",
      "source": [
        "Exercício 6 :"
      ],
      "metadata": {
        "id": "tN1sOMCyVl4p"
      }
    },
    {
      "cell_type": "code",
      "source": [
        "contar_caracteres = open('texto.txt','r')\n",
        "lendo = contar_caracteres.read()\n",
        "palavras = lendo.split()\n",
        "contar = len(palavras)\n",
        "\n",
        "contar_caracteres.close()\n",
        "\n",
        "print(f\"O numero de palavras é: {contar}\")"
      ],
      "metadata": {
        "id": "z9QOLFD7XVfb"
      },
      "execution_count": null,
      "outputs": []
    },
    {
      "cell_type": "markdown",
      "source": [
        "Exercício 7 :"
      ],
      "metadata": {
        "id": "nD5LtWfXYXO3"
      }
    },
    {
      "cell_type": "code",
      "source": [
        "texto = open('texto.txt')\n",
        "novo = open('modificado.txt','w')\n",
        "for linha in texto.readlines():\n",
        "  nova_linha = linha.replace('mundo','python')\n",
        "  novo.write(nova_linha)\n",
        "\n",
        "texto.close()\n",
        "novo.close()"
      ],
      "metadata": {
        "id": "W-uIi9CHYdzy"
      },
      "execution_count": 7,
      "outputs": []
    },
    {
      "cell_type": "markdown",
      "source": [
        "Exercício 8 :"
      ],
      "metadata": {
        "id": "_ms-_tgrkg5g"
      }
    },
    {
      "cell_type": "code",
      "source": [
        "with open('texto.txt', 'a') as arquivos:\n",
        "  arquivos.write('Isso é incrivel\\n')"
      ],
      "metadata": {
        "id": "zOLcVFSYVB30"
      },
      "execution_count": 8,
      "outputs": []
    },
    {
      "cell_type": "markdown",
      "source": [
        "Exercício 9 :"
      ],
      "metadata": {
        "id": "n5hOZSPdYgoy"
      }
    },
    {
      "cell_type": "code",
      "source": [
        "with open('texto.txt','r') as arquivo:\n",
        "  conteudo = arquivo.read()\n",
        "  letras = [letra for letra in conteudo if letra.isalpha()]\n",
        "  total = len(letras)\n",
        "  print(f'Sem os espaços {total}')"
      ],
      "metadata": {
        "id": "py6DUXtBjfwu"
      },
      "execution_count": null,
      "outputs": []
    },
    {
      "cell_type": "markdown",
      "source": [
        "Exercício 10 :"
      ],
      "metadata": {
        "id": "XTKvQHmBgupP"
      }
    },
    {
      "cell_type": "code",
      "source": [
        "arquivo = open('numeros.txt', 'w')\n",
        "arquivo.write('1,2,3,4,5,6,7,8,9,10')\n",
        "arquivo.close()"
      ],
      "metadata": {
        "id": "A2uj7wwEhelJ"
      },
      "execution_count": 11,
      "outputs": []
    },
    {
      "cell_type": "code",
      "source": [
        "numeros = []\n",
        "with open('numeros.txt','r') as arquivo:\n",
        "  conteudo = arquivo.read()\n",
        "  for numero in conteudo.split(','):\n",
        "    numeros.append(int(numero))\n",
        "\n",
        "  soma = sum(numeros)\n",
        "  print(f'A soma dos números é: {soma}')\n"
      ],
      "metadata": {
        "id": "3rpBhJlaqmMd"
      },
      "execution_count": null,
      "outputs": []
    },
    {
      "cell_type": "markdown",
      "source": [
        "Exercício 11 :"
      ],
      "metadata": {
        "id": "Ey-9Py7psgCJ"
      }
    },
    {
      "cell_type": "code",
      "source": [
        "def validar_endereco_ip(ip):\n",
        "    partes = ip.split('.')\n",
        "    if len(partes) != 4:\n",
        "        return False\n",
        "    for parte in partes:\n",
        "        if not (0 <= int(parte) <= 255):\n",
        "            return False\n",
        "    return True\n",
        "\n",
        "arquivo_entrada = 'ips.txt'\n",
        "\n",
        "enderecos_validos = []\n",
        "enderecos_invalidos = []\n",
        "\n",
        "try:\n",
        "    with open(arquivo_entrada, 'r') as arquivo_in:\n",
        "        for linha in arquivo_in:\n",
        "            ips = linha.strip()\n",
        "            if validar_endereco_ip(ips):\n",
        "                enderecos_validos.append(ips)\n",
        "            else:\n",
        "                enderecos_invalidos.append(ips)\n",
        "\n",
        "    print(\"Endereços IP válidos:\")\n",
        "    for endereco in enderecos_validos:\n",
        "        print(endereco)\n",
        "\n",
        "    print(\"\\nEndereços IP inválidos:\")\n",
        "    for endereco in enderecos_invalidos:\n",
        "        print(endereco)\n",
        "\n",
        "    print(\"\\nRelatório gerado com sucesso.\")\n",
        "except FileNotFoundError:\n",
        "    print(\"O arquivo de entrada não foi encontrado.\")\n",
        "except Exception as e:\n",
        "    print(f\"Ocorreu um erro: {e}\")\n"
      ],
      "metadata": {
        "id": "oW66XcynlFb7"
      },
      "execution_count": null,
      "outputs": []
    },
    {
      "cell_type": "markdown",
      "source": [
        "12 :"
      ],
      "metadata": {
        "id": "ZvQB0aQ8o6Zh"
      }
    },
    {
      "cell_type": "code",
      "source": [
        "def bytes_mb(bytes):\n",
        "    return bytes / (1024 * 1024)\n",
        "\n",
        "with open(\"usuarios.txt\", \"r\") as arquivo_entrada:\n",
        "    linhas = arquivo_entrada.read().splitlines()\n",
        "\n",
        "usuarios = []\n",
        "\n",
        "for linha in linhas:\n",
        "    partes = linha.split()\n",
        "    nome = partes[0]\n",
        "    espaco_bytes = int(partes[1])\n",
        "    usuarios.append((nome, espaco_bytes))\n",
        "\n",
        "usuarios.sort(key=lambda x: x[1], reverse=True)\n",
        "\n",
        "espaco_total_bytes = sum(espaco for _, espaco in usuarios)\n",
        "espaco_total_mb = bytes_mb(espaco_total_bytes)\n",
        "\n",
        "with open(\"relatorio.txt\", \"w\") as arquivo_saida:\n",
        "    arquivo_saida.write(\"ACME Inc. Uso do espaço em disco pelos usuários\\n\")\n",
        "    arquivo_saida.write(\"-\" * 60 + \"\\n\")\n",
        "    arquivo_saida.write(\"Nr. Usuário Espaço utilizado % do uso\\n\")\n",
        "\n",
        "    for i, (nome, espaco_bytes) in enumerate(usuarios, start=1):\n",
        "        espaco_mb = bytes_mb(espaco_bytes)\n",
        "        percentual = (espaco_bytes / espaco_total_bytes) * 100\n",
        "        arquivo_saida.write(f\"{i} {nome:<15} {espaco_mb:.2f} MB {percentual:.2f}%\\n\")\n",
        "\n",
        "    arquivo_saida.write(f\"\\nEspaço total ocupado: {espaco_total_mb:.2f} MB\\n\")\n",
        "    arquivo_saida.write(f\"Espaço médio ocupado: {espaco_total_mb / len(usuarios):.2f} MB\\n\")"
      ],
      "metadata": {
        "id": "vhrvGxrjo5t4"
      },
      "execution_count": 27,
      "outputs": []
    },
    {
      "cell_type": "markdown",
      "source": [
        "13 :"
      ],
      "metadata": {
        "id": "-mU61CvCo9SR"
      }
    },
    {
      "cell_type": "code",
      "source": [
        "def dividirpaginas(texto, linhaspagina, caractereslinha):\n",
        "    paginas = []\n",
        "    pagina_atual = []\n",
        "    linha_atual = \"\"\n",
        "    num_linhas = 0\n",
        "\n",
        "    for linha in texto.splitlines():\n",
        "        if len(linha_atual) + len(linha) + 1 <= caractereslinha:\n",
        "            linha_atual += \" \" + linha if linha_atual else linha\n",
        "        else:\n",
        "            pagina_atual.append(linha_atual)\n",
        "            linha_atual = linha\n",
        "            num_linhas += 1\n",
        "\n",
        "            if num_linhas >= linhaspagina:\n",
        "                paginas.append(pagina_atual)\n",
        "                pagina_atual = []\n",
        "                num_linhas = 0\n",
        "\n",
        "    if linha_atual:\n",
        "        pagina_atual.append(linha_atual)\n",
        "\n",
        "    if pagina_atual:\n",
        "        paginas.append(pagina_atual)\n",
        "\n",
        "    return paginas\n",
        "\n",
        "with open(\"entrada.txt\", \"r\") as arquivo_entrada:\n",
        "    texto = arquivo_entrada.read()\n",
        "\n",
        "paginas = dividirpaginas(texto, linhaspagina=60, caractereslinha=76)\n",
        "\n",
        "with open(\"saida_paginada.txt\", \"w\") as arquivo_saida:\n",
        "    for numero_pagina, pagina in enumerate(paginas, start=1):\n",
        "        arquivo_saida.write(f\"Página {numero_pagina}\\n\")\n",
        "        arquivo_saida.write(\"\\n\".join(pagina))\n",
        "        arquivo_saida.write(\"\\n\\nNome do arquivo original: entrada.txt\\n\")"
      ],
      "metadata": {
        "id": "DOWYLR7Wo27M"
      },
      "execution_count": 30,
      "outputs": []
    },
    {
      "cell_type": "markdown",
      "source": [
        "14 :"
      ],
      "metadata": {
        "id": "049-Lw0brnes"
      }
    },
    {
      "cell_type": "code",
      "source": [
        "with open(\"entrada.txt\", \"r\") as arquivo_entrada:\n",
        "    linhas = arquivo_entrada.readlines()\n",
        "\n",
        "linhas_limpas = []\n",
        "linha_vazia_anterior = False\n",
        "\n",
        "for linha in linhas:\n",
        "    linhalimpa = \" \".join(linha.split())\n",
        "    if linhalimpa == \"\" and linha_vazia_anterior:\n",
        "        continue\n",
        "    linhas_limpas.append(linhalimpa)\n",
        "    linha_vazia_anterior = (linhalimpa == \"\")\n",
        "\n",
        "with open(\"saidalimpa.txt\", \"w\") as arquivo_saida:\n",
        "    arquivo_saida.writelines(linhas_limpas)"
      ],
      "metadata": {
        "id": "It51d479rm5C"
      },
      "execution_count": 32,
      "outputs": []
    }
  ]
}