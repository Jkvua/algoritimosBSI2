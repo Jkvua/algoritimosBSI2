{
  "nbformat": 4,
  "nbformat_minor": 0,
  "metadata": {
    "colab": {
      "provenance": [],
      "authorship_tag": "ABX9TyNwYTS4y1wGhRrFiOTOom7J",
      "include_colab_link": true
    },
    "kernelspec": {
      "name": "python3",
      "display_name": "Python 3"
    },
    "language_info": {
      "name": "python"
    }
  },
  "cells": [
    {
      "cell_type": "markdown",
      "metadata": {
        "id": "view-in-github",
        "colab_type": "text"
      },
      "source": [
        "<a href=\"https://colab.research.google.com/github/Jkvua/desafio_2sem/blob/main/dicionario.ipynb\" target=\"_parent\"><img src=\"https://colab.research.google.com/assets/colab-badge.svg\" alt=\"Open In Colab\"/></a>"
      ]
    },
    {
      "cell_type": "markdown",
      "source": [
        "Exercício 1 e 2 :"
      ],
      "metadata": {
        "id": "ne5eDH1GM-49"
      }
    },
    {
      "cell_type": "code",
      "execution_count": null,
      "metadata": {
        "id": "L9jdY-ey_cMx"
      },
      "outputs": [],
      "source": [
        "def informacoes_pessoais():\n",
        "    pessoas = {}\n",
        "    for i in range(3):\n",
        "        nome_user = input(f\"Digite o nome {i + 1}: \")\n",
        "        idade_user = int(input(f\"Informe sua idade {nome_user}: \"))\n",
        "        pessoas[nome_user] = idade_user\n",
        "    return pessoas\n",
        "\n",
        "\n",
        "\n",
        "dict_pessoas = informacoes_pessoais()"
      ]
    },
    {
      "cell_type": "markdown",
      "source": [
        "3 - Crie uma função que receba um nome como parâmetro e retorne a idade da\n",
        "pessoa correspondente no dicionário."
      ],
      "metadata": {
        "id": "4t31sDLZNMRh"
      }
    },
    {
      "cell_type": "code",
      "source": [
        "def pessoa(info_people, search_name):\n",
        "    for name, age in info_people.items():\n",
        "      if name == search_name:\n",
        "        return (name, age)\n",
        "\n",
        "    return \"Nome não encontrado\"\n",
        "\n",
        "print(pessoa(dict_pessoas, \"\"))"
      ],
      "metadata": {
        "id": "7dcqh5-oNQdx"
      },
      "execution_count": null,
      "outputs": []
    },
    {
      "cell_type": "markdown",
      "source": [
        "4 - Crie uma função que receba um nome e uma nova idade como parâmetros e\n",
        "atualize a idade da pessoa correspondente no dicionário."
      ],
      "metadata": {
        "id": "tJN4GtgyNP6K"
      }
    },
    {
      "cell_type": "code",
      "source": [
        "def nova_idade_nome(info_people, search_name, new_age):\n",
        "  for name, age in info_people.items():\n",
        "    if search_name == name:\n",
        "      info_people[search_name] = new_age\n",
        "      return info_people\n",
        "    return \"Nome não encontrado\"\n",
        "\n",
        "print(nova_idade_nome(dict_pessoas, \"camila\", 18))"
      ],
      "metadata": {
        "id": "O1No47uYNYE5"
      },
      "execution_count": null,
      "outputs": []
    },
    {
      "cell_type": "markdown",
      "source": [
        "5 - Crie uma função que remova uma pessoa do dicionário."
      ],
      "metadata": {
        "id": "AIq_5xpQNY9i"
      }
    },
    {
      "cell_type": "code",
      "source": [
        "def remova_pessoa(info_people, search_name):\n",
        "  for name, age in info_people.items():\n",
        "    if  name == search_name:\n",
        "      remover = info_people.pop(search_name)\n",
        "      return info_people\n",
        "  return \"Nome não encontrado\"\n",
        "\n",
        "print(remova_pessoa(dict_pessoas, \"camila\"))"
      ],
      "metadata": {
        "id": "cy2u-_6INddq"
      },
      "execution_count": null,
      "outputs": []
    },
    {
      "cell_type": "markdown",
      "source": [
        "6 - Crie uma função que retorne a quantidade de pessoas no dicionário."
      ],
      "metadata": {
        "id": "m6RMWpm3Ndry"
      }
    },
    {
      "cell_type": "code",
      "source": [
        "def ler_pessoas(info_people):\n",
        "  return len(info_people)\n",
        "\n",
        "print(ler_pessoas(dict_pessoas))"
      ],
      "metadata": {
        "id": "fyySiszwNis-"
      },
      "execution_count": null,
      "outputs": []
    },
    {
      "cell_type": "markdown",
      "source": [
        "7 - Crie uma função que retorne a média das idades das pessoas no dicionário."
      ],
      "metadata": {
        "id": "21-9WIrcNgTO"
      }
    },
    {
      "cell_type": "code",
      "source": [
        "def media_idades(info_people):\n",
        "  media = [age for name, age in info_people.items()]\n",
        "  return f'A media das idades é {sum(media)/len(media)}'\n",
        "\n",
        "print(media_idades(dict_pessoas))"
      ],
      "metadata": {
        "id": "Yx702R1pNmZs"
      },
      "execution_count": null,
      "outputs": []
    },
    {
      "cell_type": "markdown",
      "source": [
        "8 - Crie uma função que retorne a pessoa mais velha do dicionário."
      ],
      "metadata": {
        "id": "SfufppRNNm47"
      }
    },
    {
      "cell_type": "code",
      "source": [
        "def pessoa_velha(info_people):\n",
        "  velha = [age for name, age in info_people.items()]\n",
        "  return max(velha)\n",
        "\n",
        "print(pessoa_velha(dict_pessoas))"
      ],
      "metadata": {
        "id": "sv_e5t4BNqI6"
      },
      "execution_count": null,
      "outputs": []
    },
    {
      "cell_type": "markdown",
      "source": [
        "9 - Crie uma função que retorne a pessoa mais nova do dicionário."
      ],
      "metadata": {
        "id": "AAz67x9-NqZC"
      }
    },
    {
      "cell_type": "code",
      "source": [
        "def pessoa_nova(info_people):\n",
        "  nova = [age for name, age in info_people.items()]\n",
        "  return min(nova)\n",
        "\n",
        "print(pessoa_nova(dict_pessoas))"
      ],
      "metadata": {
        "id": "DMkIDASvNt1a"
      },
      "execution_count": null,
      "outputs": []
    },
    {
      "cell_type": "markdown",
      "source": [
        "10 - Crie uma função que retorne uma lista com as pessoas cujo nome começa com a\n",
        "letra \"J\"."
      ],
      "metadata": {
        "id": "VuTEect2NujI"
      }
    },
    {
      "cell_type": "code",
      "source": [
        "def nomecomecamj(info_people):\n",
        "  names = [name for name, age in info_people.items() if name.startswith('j')]\n",
        "  return names\n",
        "\n",
        "print(nomecomecamj(dict_pessoas))\n"
      ],
      "metadata": {
        "id": "a8G5nWxcNzpm"
      },
      "execution_count": null,
      "outputs": []
    }
  ]
}